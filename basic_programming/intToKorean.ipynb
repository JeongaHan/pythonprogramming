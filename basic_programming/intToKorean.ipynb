{
 "cells": [
  {
   "cell_type": "code",
   "execution_count": 1,
   "metadata": {},
   "outputs": [],
   "source": [
    "import pandas as pd\n",
    "import re"
   ]
  },
  {
   "cell_type": "code",
   "execution_count": 6,
   "metadata": {},
   "outputs": [
    {
     "data": {
      "text/plain": [
       "0     2호선강남역4번출구\n",
       "1        BBQ3호점1\n",
       "2    홍대입구역9번출구11\n",
       "3          힐스테이트\n",
       "dtype: object"
      ]
     },
     "execution_count": 6,
     "metadata": {},
     "output_type": "execute_result"
    }
   ],
   "source": [
    "s = pd.Series(['2호선강남역4번출구','BBQ3호점1','홍대입구역9번출구11','힐스테이트'])\n",
    "s"
   ]
  },
  {
   "cell_type": "code",
   "execution_count": 7,
   "metadata": {},
   "outputs": [],
   "source": [
    "def intToKorean(match):\n",
    "    value = int(match.group())\n",
    "#     print(value)\n",
    "    if value == 0:\n",
    "        return \"영\"\n",
    "    digits = str(value)\n",
    "    length = len(digits)\n",
    "    count = False\n",
    "    builder = []\n",
    "    for i in range(length):\n",
    "        base = length - i - 1\n",
    "        baseMod4 = base % 4\n",
    "        digit = int(digits[i])\n",
    "        if digit != 0:\n",
    "            count = True\n",
    "            if digit == 1:\n",
    "                if baseMod4 == 0:\n",
    "                    builder.append('일')\n",
    "            else:\n",
    "                builder.append('이삼사오육칠팔구'[digit - 2])\n",
    "            if baseMod4 > 0:\n",
    "                builder.append('십백천'[baseMod4 - 1])\n",
    "        if baseMod4 == 0:\n",
    "            if count and base > 0:\n",
    "                builder.append('만억조경해'[base // 4 - 1])\n",
    "            count = False\n",
    "    result = ''\n",
    "    for i in range(len(builder)):\n",
    "        result = result + builder[i]\n",
    "    return result"
   ]
  },
  {
   "cell_type": "code",
   "execution_count": 9,
   "metadata": {},
   "outputs": [
    {
     "name": "stdout",
     "output_type": "stream",
     "text": [
      "이호선강남역사번출구\n",
      "BBQ삼호점일\n",
      "홍대입구역구번출구십일\n",
      "힐스테이트\n"
     ]
    }
   ],
   "source": [
    "ns = []\n",
    "for i in range(len(s)):\n",
    "    p = re.compile('(\\d+)')\n",
    "    print(p.sub(intToKorean, s[i]))\n",
    "    ns.append(p.sub(intToKorean, s[i]))"
   ]
  },
  {
   "cell_type": "code",
   "execution_count": 12,
   "metadata": {},
   "outputs": [
    {
     "data": {
      "text/plain": [
       "0     이호선강남역사번출구\n",
       "1        BBQ삼호점일\n",
       "2    홍대입구역구번출구십일\n",
       "3          힐스테이트\n",
       "dtype: object"
      ]
     },
     "execution_count": 12,
     "metadata": {},
     "output_type": "execute_result"
    }
   ],
   "source": [
    "nns = pd.Series(ns)\n",
    "nns"
   ]
  },
  {
   "cell_type": "code",
   "execution_count": 13,
   "metadata": {},
   "outputs": [
    {
     "name": "stdout",
     "output_type": "stream",
     "text": [
      "<class 'pandas.core.series.Series'>\n"
     ]
    }
   ],
   "source": [
    "print(type(nns))"
   ]
  }
 ],
 "metadata": {
  "kernelspec": {
   "display_name": "Python 3",
   "language": "python",
   "name": "python3"
  },
  "language_info": {
   "codemirror_mode": {
    "name": "ipython",
    "version": 3
   },
   "file_extension": ".py",
   "mimetype": "text/x-python",
   "name": "python",
   "nbconvert_exporter": "python",
   "pygments_lexer": "ipython3",
   "version": "3.8.3"
  }
 },
 "nbformat": 4,
 "nbformat_minor": 4
}
